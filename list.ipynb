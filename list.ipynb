{
  "nbformat": 4,
  "nbformat_minor": 0,
  "metadata": {
    "colab": {
      "provenance": [],
      "authorship_tag": "ABX9TyNdba7mPiiDbrWY+yfYJScL",
      "include_colab_link": true
    },
    "kernelspec": {
      "name": "python3",
      "display_name": "Python 3"
    },
    "language_info": {
      "name": "python"
    }
  },
  "cells": [
    {
      "cell_type": "markdown",
      "metadata": {
        "id": "view-in-github",
        "colab_type": "text"
      },
      "source": [
        "<a href=\"https://colab.research.google.com/github/link0328/pysolo/blob/main/list.ipynb\" target=\"_parent\"><img src=\"https://colab.research.google.com/assets/colab-badge.svg\" alt=\"Open In Colab\"/></a>"
      ]
    },
    {
      "cell_type": "markdown",
      "source": [
        "#리스트의 항목 추가 및 삭제"
      ],
      "metadata": {
        "id": "81XqmCFBbMhB"
      }
    },
    {
      "cell_type": "code",
      "execution_count": null,
      "metadata": {
        "id": "0Yv71HMtXBcx",
        "colab": {
          "base_uri": "https://localhost:8080/"
        },
        "outputId": "ae3727f6-326c-4c74-919c-bf13e4ad676d"
      },
      "outputs": [
        {
          "output_type": "stream",
          "name": "stdout",
          "text": [
            "['a', 'b', 'c', 'd', 'e', 'f'] \n",
            "\n",
            "[10, 20, 30, 40, 50] \n",
            "\n",
            "[10, 20, 30, 50] \n",
            "\n",
            "[10, 30, 50] \n",
            "\n"
          ]
        }
      ],
      "source": [
        "a_list = ['a','b','c','d','e']\n",
        "a_list.append('f')\n",
        "print(a_list,'\\n')\n",
        "\n",
        "n_list = [10,20,30,40]\n",
        "n_list.append(50)\n",
        "print(n_list,'\\n')\n",
        "\n",
        "del n_list[3]\n",
        "print(n_list,'\\n')\n",
        "\n",
        "n_list.remove(20)\n",
        "print(n_list,'\\n')"
      ]
    },
    {
      "cell_type": "markdown",
      "source": [
        "#리스트에 적용되는 내장함수"
      ],
      "metadata": {
        "id": "-BzkuJcZcniX"
      }
    },
    {
      "cell_type": "code",
      "source": [
        "list1 = [20,10,40,50,30]\n",
        "min(list1)\n",
        "max(list1)\n",
        "sum(list1)"
      ],
      "metadata": {
        "colab": {
          "base_uri": "https://localhost:8080/"
        },
        "id": "0Q_yrzBHbQsb",
        "outputId": "b07cc1ee-b8ee-42ea-afb0-dafde7080eaa"
      },
      "execution_count": null,
      "outputs": [
        {
          "output_type": "execute_result",
          "data": {
            "text/plain": [
              "50"
            ]
          },
          "metadata": {},
          "execution_count": 14
        }
      ]
    },
    {
      "cell_type": "code",
      "source": [
        "fruits = ['banana', 'orange','apple','kiwi']\n",
        "print(min(fruits))\n",
        "max(fruits)"
      ],
      "metadata": {
        "colab": {
          "base_uri": "https://localhost:8080/",
          "height": 54
        },
        "id": "nFaH2wrzdCwc",
        "outputId": "6f38a4c0-4187-446a-b230-ecdbdb31a6e3"
      },
      "execution_count": null,
      "outputs": [
        {
          "output_type": "stream",
          "name": "stdout",
          "text": [
            "apple\n"
          ]
        },
        {
          "output_type": "execute_result",
          "data": {
            "text/plain": [
              "'orange'"
            ],
            "application/vnd.google.colaboratory.intrinsic+json": {
              "type": "string"
            }
          },
          "metadata": {},
          "execution_count": 17
        }
      ]
    },
    {
      "cell_type": "code",
      "source": [
        "k_fruits = ['사과','오렌지','포도','바나나']\n",
        "print(min(k_fruits))\n",
        "max(k_fruits)"
      ],
      "metadata": {
        "colab": {
          "base_uri": "https://localhost:8080/",
          "height": 54
        },
        "id": "JUm42GlLdZtn",
        "outputId": "01e67213-6b26-48c1-d100-5f27ddb0af0c"
      },
      "execution_count": null,
      "outputs": [
        {
          "output_type": "stream",
          "name": "stdout",
          "text": [
            "바나나\n"
          ]
        },
        {
          "output_type": "execute_result",
          "data": {
            "text/plain": [
              "'포도'"
            ],
            "application/vnd.google.colaboratory.intrinsic+json": {
              "type": "string"
            }
          },
          "metadata": {},
          "execution_count": 18
        }
      ]
    },
    {
      "cell_type": "code",
      "source": [
        "num = [2,3,5,7]\n",
        "print('1에서 10까지의 소수 : {}\\n'.format(num))\n",
        "print('최솟값 : {}\\n'.format(min(num)))\n",
        "print('최댓값 : {}\\n'.format(max(num)))\n",
        "print('합계 : {}\\n'.format(sum(num)))\n",
        "print('평균 : {}\\n'.format(float(len(num))))"
      ],
      "metadata": {
        "colab": {
          "base_uri": "https://localhost:8080/"
        },
        "id": "cGQli3apdzmy",
        "outputId": "500f617d-ff2a-4520-fade-d18fd1154eae"
      },
      "execution_count": null,
      "outputs": [
        {
          "output_type": "stream",
          "name": "stdout",
          "text": [
            "1에서 10까지의 소수 : [2, 3, 5, 7]\n",
            "\n",
            "최솟값 : 2\n",
            "\n",
            "최댓값 : 7\n",
            "\n",
            "합계 : 17\n",
            "\n",
            "평균 : 4.0\n",
            "\n"
          ]
        }
      ]
    },
    {
      "cell_type": "markdown",
      "source": [
        "#리스트의 메소드"
      ],
      "metadata": {
        "id": "bW8S3P7QgKGB"
      }
    },
    {
      "cell_type": "code",
      "source": [
        "list1 = [20,10,40,50,30]\n",
        "list1.sort()\n",
        "print(list1,'\\n')\n",
        "list1.sort(reverse=True)\n",
        "print(list1)\n"
      ],
      "metadata": {
        "colab": {
          "base_uri": "https://localhost:8080/"
        },
        "id": "SUd19p_qgMYS",
        "outputId": "f5ade5a4-310a-4fa3-a6f4-2a3538f2c2c7"
      },
      "execution_count": 28,
      "outputs": [
        {
          "output_type": "stream",
          "name": "stdout",
          "text": [
            "[10, 20, 30, 40, 50] \n",
            "\n",
            "[50, 40, 30, 20, 10]\n"
          ]
        }
      ]
    },
    {
      "cell_type": "code",
      "source": [
        "a_lsit = ['a','b','c','d','e']\n",
        "a_list.indeox('a')"
      ],
      "metadata": {
        "id": "KbE8P0dvgg6d"
      },
      "execution_count": null,
      "outputs": []
    },
    {
      "cell_type": "code",
      "source": [
        "b_list = ['a','b','c','a','b','a']\n",
        "print(b_list.count('a'))\n",
        "print(b_list.count('b'))\n",
        "b_list.count('c')"
      ],
      "metadata": {
        "colab": {
          "base_uri": "https://localhost:8080/"
        },
        "id": "6-BpR-Cpgse7",
        "outputId": "291a9a56-99b1-4dff-e544-1212f90412bf"
      },
      "execution_count": 31,
      "outputs": [
        {
          "output_type": "stream",
          "name": "stdout",
          "text": [
            "3\n",
            "2\n"
          ]
        },
        {
          "output_type": "execute_result",
          "data": {
            "text/plain": [
              "1"
            ]
          },
          "metadata": {},
          "execution_count": 31
        }
      ]
    },
    {
      "cell_type": "code",
      "source": [
        "list1 = ['a','b','c']\n",
        "list2 = [1,2,3]\n",
        "list1.extend(list2)\n",
        "print(list1)\n",
        "list1.extend('d')\n",
        "print(list1)"
      ],
      "metadata": {
        "colab": {
          "base_uri": "https://localhost:8080/"
        },
        "id": "0uk8Tp3JhJSK",
        "outputId": "cbc3df1c-fcb1-45c9-92d5-9ffa394e5d2a"
      },
      "execution_count": 35,
      "outputs": [
        {
          "output_type": "stream",
          "name": "stdout",
          "text": [
            "['a', 'b', 'c', 1, 2, 3]\n",
            "['a', 'b', 'c', 1, 2, 3, 'd']\n"
          ]
        }
      ]
    },
    {
      "cell_type": "markdown",
      "source": [
        "###append() 메소드와 extend() 메소드의 차이점"
      ],
      "metadata": {
        "id": "DaTafJRPhrBr"
      }
    },
    {
      "cell_type": "code",
      "source": [
        "list1 = [11,22,33,44]\n",
        "list1.append([55,66])\n",
        "list1"
      ],
      "metadata": {
        "colab": {
          "base_uri": "https://localhost:8080/"
        },
        "id": "bOL30AOGhpC8",
        "outputId": "9bb38580-22b6-4053-97f5-fdc26f372b26"
      },
      "execution_count": 36,
      "outputs": [
        {
          "output_type": "execute_result",
          "data": {
            "text/plain": [
              "[11, 22, 33, 44, [55, 66]]"
            ]
          },
          "metadata": {},
          "execution_count": 36
        }
      ]
    },
    {
      "cell_type": "code",
      "source": [
        "list1 = [11,22,33,44]\n",
        "list1.extend([55,66])\n",
        "list1"
      ],
      "metadata": {
        "colab": {
          "base_uri": "https://localhost:8080/"
        },
        "id": "hdL9Bo1Ohq6t",
        "outputId": "bdfafac2-9c25-4f77-dfeb-40236193b677"
      },
      "execution_count": 37,
      "outputs": [
        {
          "output_type": "execute_result",
          "data": {
            "text/plain": [
              "[11, 22, 33, 44, 55, 66]"
            ]
          },
          "metadata": {},
          "execution_count": 37
        }
      ]
    },
    {
      "cell_type": "markdown",
      "source": [
        "#insert(), remove(), pop(), reverse() 메소드"
      ],
      "metadata": {
        "id": "SgUis6vfiP2T"
      }
    },
    {
      "cell_type": "code",
      "source": [
        "list1 = ['a','c','d']\n",
        "list1.insert(1,'b')\n",
        "list1"
      ],
      "metadata": {
        "colab": {
          "base_uri": "https://localhost:8080/"
        },
        "id": "9omAbu6CiZyM",
        "outputId": "e4299912-76ac-4d4e-f54f-62e2030a99a2"
      },
      "execution_count": 38,
      "outputs": [
        {
          "output_type": "execute_result",
          "data": {
            "text/plain": [
              "['a', 'b', 'c', 'd']"
            ]
          },
          "metadata": {},
          "execution_count": 38
        }
      ]
    },
    {
      "cell_type": "code",
      "source": [
        "list1 = ['a','b','c','b','d']\n",
        "list1.remove('b')\n",
        "print(list1)\n",
        "list1.remove('b')\n",
        "list1"
      ],
      "metadata": {
        "colab": {
          "base_uri": "https://localhost:8080/"
        },
        "id": "JDeeXe0SijG9",
        "outputId": "6b007de7-e702-43e5-dbd0-8cad2928999e"
      },
      "execution_count": 41,
      "outputs": [
        {
          "output_type": "stream",
          "name": "stdout",
          "text": [
            "['a', 'c', 'b', 'd']\n"
          ]
        },
        {
          "output_type": "execute_result",
          "data": {
            "text/plain": [
              "['a', 'c', 'd']"
            ]
          },
          "metadata": {},
          "execution_count": 41
        }
      ]
    },
    {
      "cell_type": "code",
      "source": [
        "list1 = ['a','b','c','d']\n",
        "list1.pop() #list1의 마지막 원소 'd'를 삭제하고 반\n",
        "print(list1)\n",
        "list1 = ['a','b','c','d']\n",
        "list1.pop(1)\n",
        "print(list1)"
      ],
      "metadata": {
        "colab": {
          "base_uri": "https://localhost:8080/"
        },
        "id": "xiZ-NogXi5XC",
        "outputId": "0540d6a6-b93c-457e-cdf6-d6c955bd339e"
      },
      "execution_count": 42,
      "outputs": [
        {
          "output_type": "stream",
          "name": "stdout",
          "text": [
            "['a', 'b', 'c']\n",
            "['a', 'c', 'd']\n"
          ]
        }
      ]
    },
    {
      "cell_type": "code",
      "source": [
        "list1 = [10,20,30,40]\n",
        "list1.reverse()\n",
        "list1"
      ],
      "metadata": {
        "colab": {
          "base_uri": "https://localhost:8080/"
        },
        "id": "zpyMYNAzkPUh",
        "outputId": "61482132-6bd7-41cc-a0cc-e61aef67e36c"
      },
      "execution_count": 43,
      "outputs": [
        {
          "output_type": "execute_result",
          "data": {
            "text/plain": [
              "[40, 30, 20, 10]"
            ]
          },
          "metadata": {},
          "execution_count": 43
        }
      ]
    },
    {
      "cell_type": "code",
      "source": [
        "a = list(range(10))\n",
        "print(a)"
      ],
      "metadata": {
        "colab": {
          "base_uri": "https://localhost:8080/"
        },
        "id": "3SHU-_rHkpux",
        "outputId": "8d96507b-0dc9-48bd-e15e-04188bad3a7c"
      },
      "execution_count": 50,
      "outputs": [
        {
          "output_type": "stream",
          "name": "stdout",
          "text": [
            "[0, 1, 2, 3, 4, 5, 6, 7, 8, 9]\n"
          ]
        }
      ]
    }
  ]
}